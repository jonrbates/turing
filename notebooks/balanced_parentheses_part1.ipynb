{
 "cells": [
  {
   "cell_type": "markdown",
   "metadata": {},
   "source": [
    "# The Balanced Parentheses Problem\n",
    "### and a transformer solution (Part 1)"
   ]
  },
  {
   "cell_type": "code",
   "execution_count": 1,
   "metadata": {},
   "outputs": [
    {
     "data": {
      "text/plain": [
       "['((()))', '(()())', '(())()', '()(())', '()()()']"
      ]
     },
     "execution_count": 1,
     "metadata": {},
     "output_type": "execute_result"
    }
   ],
   "source": [
    "from turing.balanced_parentheses import generate_balanced_parentheses\n",
    "generate_balanced_parentheses(3)"
   ]
  },
  {
   "cell_type": "markdown",
   "metadata": {},
   "source": [
    "#### A standard solution"
   ]
  },
  {
   "cell_type": "code",
   "execution_count": 2,
   "metadata": {},
   "outputs": [],
   "source": [
    "def is_balanced(string: str):\n",
    "    stack = []\n",
    "    for a in string:\n",
    "        if a == \"(\":\n",
    "            stack.append(a)\n",
    "        elif a == \")\" and len(stack) > 0:\n",
    "            stack.pop()\n",
    "        else:\n",
    "            return False\n",
    "    return len(stack) == 0"
   ]
  },
  {
   "cell_type": "code",
   "execution_count": 3,
   "metadata": {},
   "outputs": [
    {
     "data": {
      "text/plain": [
       "True"
      ]
     },
     "execution_count": 3,
     "metadata": {},
     "output_type": "execute_result"
    }
   ],
   "source": [
    "is_balanced(\"()((()(()))())\")"
   ]
  },
  {
   "cell_type": "markdown",
   "metadata": {},
   "source": [
    "#### A turing machine solution\n",
    "\n",
    "The transition function \"delta\" takes (state, symbol) and outputs (new state, symbol to write at head, direction to move head)\n",
    "\\\n",
    "<u> States </u>\\\n",
    "\\\n",
    "I - initial\\\n",
    "R - pass right\\\n",
    "M - find match\\\n",
    "V - validate\\\n",
    "T - true\\\n",
    "F - false\\\n",
    "\\\n",
    "<u> Symbols </u>\\\n",
    "\\\n",
    "B - beginning of tape\\\n",
    "E - end of tape\\\n",
    "\\* - blank\\\n",
    "\\( - \\\n",
    "\\) -"
   ]
  },
  {
   "cell_type": "code",
   "execution_count": 4,
   "metadata": {},
   "outputs": [],
   "source": [
    "delta = {\n",
    "    (\"I\", \"B\") : (\"R\", \"B\",  1),\n",
    "    (\"R\", \"(\") : (\"R\", \"(\",  1),\n",
    "    (\"R\", \")\") : (\"M\", \"*\", -1),\n",
    "    (\"R\", \"*\") : (\"R\", \"*\",  1),\n",
    "    (\"R\", \"E\") : (\"V\", \"E\", -1),\n",
    "    (\"M\", \"B\") : (\"F\", \"*\", -1),\n",
    "    (\"M\", \"(\") : (\"R\", \"*\",  1),\n",
    "    (\"M\", \"*\") : (\"M\", \"*\", -1),\n",
    "    (\"V\", \"(\") : (\"F\", \"*\", -1),\n",
    "    (\"V\", \"*\") : (\"V\", \"*\", -1),\n",
    "    (\"V\", \"B\") : (\"T\", \"*\",  1),\n",
    "}"
   ]
  },
  {
   "cell_type": "code",
   "execution_count": 5,
   "metadata": {},
   "outputs": [],
   "source": [
    "# get unique states and symbols\n",
    "states = set()    \n",
    "alphabet = set()\n",
    "for (z, a), (z_next, u, _) in delta.items():\n",
    "    states.add(z)\n",
    "    states.add(z_next)\n",
    "    alphabet.add(a)\n",
    "    alphabet.add(u)"
   ]
  },
  {
   "cell_type": "markdown",
   "metadata": {},
   "source": [
    "Simulating the Turing machine solution"
   ]
  },
  {
   "cell_type": "code",
   "execution_count": 6,
   "metadata": {},
   "outputs": [
    {
     "name": "stdout",
     "output_type": "stream",
     "text": [
      "  B()((()(()))())E\n",
      "I ^                \n",
      "  B()((()(()))())E\n",
      "R  ^               \n",
      "  B()((()(()))())E\n",
      "R   ^              \n",
      "  B(*((()(()))())E\n",
      "M  ^               \n",
      "  B**((()(()))())E\n",
      "R   ^              \n",
      "  B**((()(()))())E\n",
      "R    ^             \n",
      "  B**((()(()))())E\n",
      "R     ^            \n",
      "  B**((()(()))())E\n",
      "R      ^           \n",
      "  B**((()(()))())E\n",
      "R       ^          \n",
      "  B**(((*(()))())E\n",
      "M      ^           \n",
      "  B**((**(()))())E\n",
      "R       ^          \n",
      "  B**((**(()))())E\n",
      "R        ^         \n",
      "  B**((**(()))())E\n",
      "R         ^        \n",
      "  B**((**(()))())E\n",
      "R          ^       \n",
      "  B**((**((*))())E\n",
      "M         ^        \n",
      "  B**((**(**))())E\n",
      "R          ^       \n",
      "  B**((**(**))())E\n",
      "R           ^      \n",
      "  B**((**(***)())E\n",
      "M          ^       \n",
      "  B**((**(***)())E\n",
      "M         ^        \n",
      "  B**((**(***)())E\n",
      "M        ^         \n",
      "  B**((******)())E\n",
      "R         ^        \n",
      "  B**((******)())E\n",
      "R          ^       \n",
      "  B**((******)())E\n",
      "R           ^      \n",
      "  B**((******)())E\n",
      "R            ^     \n",
      "  B**((*******())E\n",
      "M           ^      \n",
      "  B**((*******())E\n",
      "M          ^       \n",
      "  B**((*******())E\n",
      "M         ^        \n",
      "  B**((*******())E\n",
      "M        ^         \n",
      "  B**((*******())E\n",
      "M       ^          \n",
      "  B**((*******())E\n",
      "M      ^           \n",
      "  B**((*******())E\n",
      "M     ^            \n",
      "  B**(********())E\n",
      "R      ^           \n",
      "  B**(********())E\n",
      "R       ^          \n",
      "  B**(********())E\n",
      "R        ^         \n",
      "  B**(********())E\n",
      "R         ^        \n",
      "  B**(********())E\n",
      "R          ^       \n",
      "  B**(********())E\n",
      "R           ^      \n",
      "  B**(********())E\n",
      "R            ^     \n",
      "  B**(********())E\n",
      "R             ^    \n",
      "  B**(********())E\n",
      "R              ^   \n",
      "  B**(********(*)E\n",
      "M             ^    \n",
      "  B**(**********)E\n",
      "R              ^   \n",
      "  B**(**********)E\n",
      "R               ^  \n",
      "  B**(***********E\n",
      "M              ^   \n",
      "  B**(***********E\n",
      "M             ^    \n",
      "  B**(***********E\n",
      "M            ^     \n",
      "  B**(***********E\n",
      "M           ^      \n",
      "  B**(***********E\n",
      "M          ^       \n",
      "  B**(***********E\n",
      "M         ^        \n",
      "  B**(***********E\n",
      "M        ^         \n",
      "  B**(***********E\n",
      "M       ^          \n",
      "  B**(***********E\n",
      "M      ^           \n",
      "  B**(***********E\n",
      "M     ^            \n",
      "  B**(***********E\n",
      "M    ^             \n",
      "  B**************E\n",
      "R     ^            \n",
      "  B**************E\n",
      "R      ^           \n",
      "  B**************E\n",
      "R       ^          \n",
      "  B**************E\n",
      "R        ^         \n",
      "  B**************E\n",
      "R         ^        \n",
      "  B**************E\n",
      "R          ^       \n",
      "  B**************E\n",
      "R           ^      \n",
      "  B**************E\n",
      "R            ^     \n",
      "  B**************E\n",
      "R             ^    \n",
      "  B**************E\n",
      "R              ^   \n",
      "  B**************E\n",
      "R               ^  \n",
      "  B**************E\n",
      "R                ^ \n",
      "  B**************E\n",
      "V               ^  \n",
      "  B**************E\n",
      "V              ^   \n",
      "  B**************E\n",
      "V             ^    \n",
      "  B**************E\n",
      "V            ^     \n",
      "  B**************E\n",
      "V           ^      \n",
      "  B**************E\n",
      "V          ^       \n",
      "  B**************E\n",
      "V         ^        \n",
      "  B**************E\n",
      "V        ^         \n",
      "  B**************E\n",
      "V       ^          \n",
      "  B**************E\n",
      "V      ^           \n",
      "  B**************E\n",
      "V     ^            \n",
      "  B**************E\n",
      "V    ^             \n",
      "  B**************E\n",
      "V   ^              \n",
      "  B**************E\n",
      "V  ^               \n",
      "  B**************E\n",
      "V ^                \n"
     ]
    },
    {
     "data": {
      "text/plain": [
       "True"
      ]
     },
     "execution_count": 6,
     "metadata": {},
     "output_type": "execute_result"
    }
   ],
   "source": [
    "def simulate_turing_machine(tape: str, verbose: bool = False):\n",
    "    head = 0    # head position    \n",
    "    state = \"I\"\n",
    "    n = len(tape)\n",
    "    cursor = \"^\"\n",
    "    pad = \" \"\n",
    "    final_states = [\"T\", \"F\"]\n",
    "    while state not in final_states:\n",
    "        if verbose:\n",
    "            # print tape\n",
    "            print(\"  \", tape, sep=\"\")\n",
    "            # print machine info\n",
    "            print(state, \" \", pad*head, cursor, pad*(n-head), sep=\"\")    \n",
    "        # update\n",
    "        (state, write, move) = delta[(state, tape[head])]        \n",
    "        # write\n",
    "        tape = tape[:head] + write + tape[head+1:]\n",
    "        # move\n",
    "        head += move\n",
    "    if state == \"T\":\n",
    "        return True\n",
    "    elif state == \"F\":\n",
    "        return False\n",
    "    else:\n",
    "        raise Exception(\"Invalid final state\")\n",
    "\n",
    "tape = \"B()((()(()))())E\"\n",
    "simulate_turing_machine(tape, verbose=True)"
   ]
  },
  {
   "cell_type": "markdown",
   "metadata": {},
   "source": [
    "Visual representation of the turing machine"
   ]
  },
  {
   "cell_type": "code",
   "execution_count": 7,
   "metadata": {},
   "outputs": [
    {
     "data": {
      "image/svg+xml": "<?xml version=\"1.0\" encoding=\"UTF-8\" standalone=\"no\"?>\n<!DOCTYPE svg PUBLIC \"-//W3C//DTD SVG 1.1//EN\"\n \"http://www.w3.org/Graphics/SVG/1.1/DTD/svg11.dtd\">\n<!-- Generated by graphviz version 2.43.0 (0)\n -->\n<!-- Title: tm Pages: 1 -->\n<svg width=\"156pt\" height=\"309pt\"\n viewBox=\"0.00 0.00 156.00 309.30\" xmlns=\"http://www.w3.org/2000/svg\" xmlns:xlink=\"http://www.w3.org/1999/xlink\">\n<g id=\"graph0\" class=\"graph\" transform=\"scale(1 1) rotate(0) translate(4 305.3)\">\n<title>tm</title>\n<polygon fill=\"white\" stroke=\"transparent\" points=\"-4,4 -4,-305.3 152,-305.3 152,4 -4,4\"/>\n<!-- M -->\n<g id=\"node1\" class=\"node\">\n<title>M</title>\n<ellipse fill=\"#b2dfee\" stroke=\"#b2dfee\" cx=\"31\" cy=\"-281.15\" rx=\"20.3\" ry=\"20.3\"/>\n<text text-anchor=\"middle\" x=\"31\" y=\"-277.45\" font-family=\"Times,serif\" font-size=\"14.00\">M</text>\n</g>\n<!-- M&#45;&gt;M -->\n<g id=\"edge8\" class=\"edge\">\n<title>M&#45;&gt;M</title>\n<path fill=\"none\" stroke=\"black\" d=\"M49.84,-289.06C59.94,-290.4 69.15,-287.77 69.15,-281.15 69.15,-276.91 65.37,-274.3 60,-273.33\"/>\n<polygon fill=\"black\" stroke=\"black\" points=\"59.87,-269.83 49.84,-273.24 59.81,-276.83 59.87,-269.83\"/>\n<text text-anchor=\"middle\" x=\"72.65\" y=\"-277.45\" font-family=\"Times,serif\" font-size=\"14.00\">*</text>\n</g>\n<!-- R -->\n<g id=\"node5\" class=\"node\">\n<title>R</title>\n<ellipse fill=\"#b2dfee\" stroke=\"#b2dfee\" cx=\"76\" cy=\"-192\" rx=\"18\" ry=\"18\"/>\n<text text-anchor=\"middle\" x=\"76\" y=\"-188.3\" font-family=\"Times,serif\" font-size=\"14.00\">R</text>\n</g>\n<!-- M&#45;&gt;R -->\n<g id=\"edge7\" class=\"edge\">\n<title>M&#45;&gt;R</title>\n<path fill=\"none\" stroke=\"black\" d=\"M41.81,-263.79C45.84,-257.42 50.33,-249.98 54,-243 58.14,-235.12 62.21,-226.3 65.69,-218.29\"/>\n<polygon fill=\"black\" stroke=\"black\" points=\"68.93,-219.6 69.62,-209.03 62.49,-216.87 68.93,-219.6\"/>\n<text text-anchor=\"middle\" x=\"64\" y=\"-231.8\" font-family=\"Times,serif\" font-size=\"14.00\">(</text>\n</g>\n<!-- F -->\n<g id=\"node6\" class=\"node\">\n<title>F</title>\n<polygon fill=\"#b2dfee\" stroke=\"#b2dfee\" points=\"36,-36 0,-36 0,0 36,0 36,-36\"/>\n<text text-anchor=\"middle\" x=\"18\" y=\"-14.3\" font-family=\"Times,serif\" font-size=\"14.00\">F</text>\n</g>\n<!-- M&#45;&gt;F -->\n<g id=\"edge6\" class=\"edge\">\n<title>M&#45;&gt;F</title>\n<path fill=\"none\" stroke=\"black\" d=\"M30.04,-260.95C27.76,-215.1 21.99,-99.16 19.35,-46.17\"/>\n<polygon fill=\"black\" stroke=\"black\" points=\"22.85,-45.97 18.85,-36.16 15.86,-46.32 22.85,-45.97\"/>\n<text text-anchor=\"middle\" x=\"29.5\" y=\"-144.8\" font-family=\"Times,serif\" font-size=\"14.00\">B</text>\n</g>\n<!-- T -->\n<g id=\"node2\" class=\"node\">\n<title>T</title>\n<polygon fill=\"#b2dfee\" stroke=\"#b2dfee\" points=\"94,-36 58,-36 58,0 94,0 94,-36\"/>\n<text text-anchor=\"middle\" x=\"76\" y=\"-14.3\" font-family=\"Times,serif\" font-size=\"14.00\">T</text>\n</g>\n<!-- V -->\n<g id=\"node3\" class=\"node\">\n<title>V</title>\n<ellipse fill=\"#b2dfee\" stroke=\"#b2dfee\" cx=\"76\" cy=\"-105\" rx=\"18\" ry=\"18\"/>\n<text text-anchor=\"middle\" x=\"76\" y=\"-101.3\" font-family=\"Times,serif\" font-size=\"14.00\">V</text>\n</g>\n<!-- V&#45;&gt;T -->\n<g id=\"edge11\" class=\"edge\">\n<title>V&#45;&gt;T</title>\n<path fill=\"none\" stroke=\"black\" d=\"M76,-86.8C76,-75.16 76,-59.55 76,-46.24\"/>\n<polygon fill=\"black\" stroke=\"black\" points=\"79.5,-46.18 76,-36.18 72.5,-46.18 79.5,-46.18\"/>\n<text text-anchor=\"middle\" x=\"81.5\" y=\"-57.8\" font-family=\"Times,serif\" font-size=\"14.00\">B</text>\n</g>\n<!-- V&#45;&gt;V -->\n<g id=\"edge10\" class=\"edge\">\n<title>V&#45;&gt;V</title>\n<path fill=\"none\" stroke=\"black\" d=\"M92.66,-112.38C102.62,-114.02 112,-111.56 112,-105 112,-100.8 108.15,-98.28 102.77,-97.44\"/>\n<polygon fill=\"black\" stroke=\"black\" points=\"102.6,-93.94 92.66,-97.62 102.72,-100.94 102.6,-93.94\"/>\n<text text-anchor=\"middle\" x=\"115.5\" y=\"-101.3\" font-family=\"Times,serif\" font-size=\"14.00\">*</text>\n</g>\n<!-- V&#45;&gt;F -->\n<g id=\"edge9\" class=\"edge\">\n<title>V&#45;&gt;F</title>\n<path fill=\"none\" stroke=\"black\" d=\"M66.16,-89.58C57.81,-77.34 45.62,-59.48 35.6,-44.79\"/>\n<polygon fill=\"black\" stroke=\"black\" points=\"38.22,-42.42 29.69,-36.13 32.43,-46.36 38.22,-42.42\"/>\n<text text-anchor=\"middle\" x=\"53\" y=\"-57.8\" font-family=\"Times,serif\" font-size=\"14.00\">(</text>\n</g>\n<!-- I -->\n<g id=\"node4\" class=\"node\">\n<title>I</title>\n<polygon fill=\"#b2dfee\" stroke=\"#b2dfee\" points=\"121,-299.15 94,-281.15 121,-263.15 148,-281.15 121,-299.15\"/>\n<text text-anchor=\"middle\" x=\"121\" y=\"-277.45\" font-family=\"Times,serif\" font-size=\"14.00\">I</text>\n</g>\n<!-- I&#45;&gt;R -->\n<g id=\"edge1\" class=\"edge\">\n<title>I&#45;&gt;R</title>\n<path fill=\"none\" stroke=\"black\" d=\"M114.36,-267.29C107.57,-254.15 96.87,-233.43 88.5,-217.2\"/>\n<polygon fill=\"black\" stroke=\"black\" points=\"91.58,-215.54 83.88,-208.26 85.36,-218.75 91.58,-215.54\"/>\n<text text-anchor=\"middle\" x=\"106.5\" y=\"-231.8\" font-family=\"Times,serif\" font-size=\"14.00\">B</text>\n</g>\n<!-- R&#45;&gt;M -->\n<g id=\"edge3\" class=\"edge\">\n<title>R&#45;&gt;M</title>\n<path fill=\"none\" stroke=\"black\" d=\"M65.18,-206.44C60.43,-212.74 55.03,-220.5 51,-228 46.93,-235.57 43.29,-244.14 40.25,-252.12\"/>\n<polygon fill=\"black\" stroke=\"black\" points=\"36.87,-251.19 36.76,-261.79 43.45,-253.57 36.87,-251.19\"/>\n<text text-anchor=\"middle\" x=\"54\" y=\"-231.8\" font-family=\"Times,serif\" font-size=\"14.00\">)</text>\n</g>\n<!-- R&#45;&gt;V -->\n<g id=\"edge5\" class=\"edge\">\n<title>R&#45;&gt;V</title>\n<path fill=\"none\" stroke=\"black\" d=\"M76,-173.8C76,-162.16 76,-146.55 76,-133.24\"/>\n<polygon fill=\"black\" stroke=\"black\" points=\"79.5,-133.18 76,-123.18 72.5,-133.18 79.5,-133.18\"/>\n<text text-anchor=\"middle\" x=\"81.5\" y=\"-144.8\" font-family=\"Times,serif\" font-size=\"14.00\">E</text>\n</g>\n<!-- R&#45;&gt;R -->\n<g id=\"edge2\" class=\"edge\">\n<title>R&#45;&gt;R</title>\n<path fill=\"none\" stroke=\"black\" d=\"M93.78,-195.78C103.31,-196.42 112,-195.16 112,-192 112,-190.08 108.77,-188.86 104.1,-188.34\"/>\n<polygon fill=\"black\" stroke=\"black\" points=\"103.82,-184.84 93.78,-188.22 103.74,-191.84 103.82,-184.84\"/>\n<text text-anchor=\"middle\" x=\"115\" y=\"-188.3\" font-family=\"Times,serif\" font-size=\"14.00\">(</text>\n</g>\n<!-- R&#45;&gt;R -->\n<g id=\"edge4\" class=\"edge\">\n<title>R&#45;&gt;R</title>\n<path fill=\"none\" stroke=\"black\" d=\"M93.14,-198.14C110.58,-201.76 130,-199.71 130,-192 130,-185.8 117.43,-183.26 103.43,-184.39\"/>\n<polygon fill=\"black\" stroke=\"black\" points=\"102.55,-180.98 93.14,-185.86 103.54,-187.91 102.55,-180.98\"/>\n<text text-anchor=\"middle\" x=\"133.5\" y=\"-188.3\" font-family=\"Times,serif\" font-size=\"14.00\">*</text>\n</g>\n</g>\n</svg>\n",
      "text/plain": [
       "<graphviz.graphs.Digraph at 0x7f44d8071f10>"
      ]
     },
     "execution_count": 7,
     "metadata": {},
     "output_type": "execute_result"
    }
   ],
   "source": [
    "from turing.graph import generate\n",
    "generate(delta, terminal_states=[\"T\", \"F\"])"
   ]
  },
  {
   "cell_type": "markdown",
   "metadata": {},
   "source": [
    "Verify the turing machine definition agrees with the standard algorithm."
   ]
  },
  {
   "cell_type": "code",
   "execution_count": 8,
   "metadata": {},
   "outputs": [],
   "source": [
    "from random import sample\n",
    "\n",
    "for n in range(10):\n",
    "    for string in generate_balanced_parentheses(n):\n",
    "        # balanced case\n",
    "        assert is_balanced(string) == simulate_turing_machine(\"B\" + string + \"E\"), string\n",
    "        if n == 0:\n",
    "            continue\n",
    "        # random case\n",
    "        string = \"\".join(sample(string, 2*n))\n",
    "        assert is_balanced(string) == simulate_turing_machine(\"B\" + string + \"E\"), string"
   ]
  },
  {
   "cell_type": "markdown",
   "metadata": {},
   "source": [
    "#### Now write a neural network to simulate the Turing machine"
   ]
  },
  {
   "cell_type": "code",
   "execution_count": 9,
   "metadata": {},
   "outputs": [],
   "source": [
    "from math import ceil, log2\n",
    "import torch\n",
    "import torch.nn.functional as F\n",
    "from torch.nn import (\n",
    "    Linear,\n",
    "    Parameter\n",
    ")"
   ]
  },
  {
   "cell_type": "code",
   "execution_count": 10,
   "metadata": {},
   "outputs": [
    {
     "data": {
      "text/plain": [
       "(['B', '*', ')', '(', 'E'],\n",
       " {'B': 0, '*': 1, ')': 2, '(': 3, 'E': 4},\n",
       " ['M', 'T', 'V', 'I', 'R', 'F'],\n",
       " {'M': 0, 'T': 1, 'V': 2, 'I': 3, 'R': 4, 'F': 5})"
      ]
     },
     "execution_count": 10,
     "metadata": {},
     "output_type": "execute_result"
    }
   ],
   "source": [
    "# list so we can index\n",
    "alphabet = list(alphabet)\n",
    "states = list(states)\n",
    "a2i = {a: i for i, a in enumerate(alphabet)}\n",
    "z2i = {z: i for i, z in enumerate(states)}\n",
    "alphabet, a2i, states, z2i"
   ]
  },
  {
   "cell_type": "code",
   "execution_count": 11,
   "metadata": {},
   "outputs": [
    {
     "data": {
      "text/plain": [
       "[0, 0, 0, 0, 1, 0, 1]"
      ]
     },
     "execution_count": 11,
     "metadata": {},
     "output_type": "execute_result"
    }
   ],
   "source": [
    "T = 100\n",
    "w_pos = ceil(log2(T))\n",
    "w_scr = 3\n",
    "w = len(states) + 2*len(alphabet) + 3*w_pos + w_scr\n",
    "def Bin(i):\n",
    "    stringbin = f\"{i:0{w_pos}b}\"\n",
    "    return list(map(int, list(stringbin)))\n",
    "Bin(5)"
   ]
  },
  {
   "cell_type": "markdown",
   "metadata": {},
   "source": [
    "##### Lemma C.1"
   ]
  },
  {
   "cell_type": "code",
   "execution_count": 12,
   "metadata": {},
   "outputs": [],
   "source": [
    "# starting indexes\n",
    "st_ = 0\n",
    "sym1_ = len(states)\n",
    "sym2_ = sym1_ + len(alphabet)\n",
    "pos1_ = sym2_ + len(alphabet)\n",
    "pos2_ = pos1_ + w_pos\n",
    "pos3_ = pos2_ + w_pos\n",
    "scr_ = pos3_ + w_pos"
   ]
  },
  {
   "cell_type": "code",
   "execution_count": 13,
   "metadata": {},
   "outputs": [
    {
     "data": {
      "text/plain": [
       "(tensor([1., 0., 0., 0., 0., 0.]),\n",
       " tensor([0., 0., 0., 1., 0.]),\n",
       " tensor([0., 0., 0., 0., 0.]),\n",
       " tensor([0., 0., 0., 0., 0., 1., 0.]),\n",
       " tensor([0., 0., 0., 0., 0., 1., 1.]),\n",
       " tensor([0., 0., 0., 0., 0., 0., 0.]),\n",
       " tensor([0., 0., 0.]))"
      ]
     },
     "execution_count": 13,
     "metadata": {},
     "output_type": "execute_result"
    }
   ],
   "source": [
    "# example output\n",
    "def one_alphabet(a):\n",
    "    o = torch.zeros([len(alphabet)])\n",
    "    o[a2i[a]] = 1\n",
    "    return o\n",
    "\n",
    "def one_states(z):\n",
    "    o = torch.zeros([len(states)])\n",
    "    o[z2i[z]] = 1\n",
    "    return o\n",
    "\n",
    "def hinput(z: str, a: str, i: int, l: int):\n",
    "    # decoder inputs for timestep i\n",
    "    o_st = one_states(z)\n",
    "    o_sym1 = one_alphabet(a)\n",
    "    o_sym2 = torch.zeros(len(alphabet))\n",
    "    o_pos1 = torch.Tensor(Bin(i))\n",
    "    o_pos2 = torch.Tensor(Bin(l))\n",
    "    o_pos3 = torch.zeros(w_pos)\n",
    "    o_scr = torch.zeros(w_scr)\n",
    "    return (o_st, o_sym1, o_sym2, o_pos1, o_pos2, o_pos3, o_scr)\n",
    "\n",
    "hinput(\"M\", \"(\", 2, 3)"
   ]
  },
  {
   "cell_type": "code",
   "execution_count": 14,
   "metadata": {},
   "outputs": [],
   "source": [
    "ds = len(states)*len(alphabet) # domain size\n",
    "linear1 = Linear(w, w+ds)\n",
    "linear2 = Linear(w+ds, w)\n",
    "upper = torch.zeros((ds, w)) # upper ZxA block of weights1\n",
    "lower = torch.eye(w)\n",
    "weight2 = torch.zeros((w, w+ds))\n",
    "k = 0\n",
    "for i in range(len(states)):\n",
    "    for j in range(len(alphabet)):\n",
    "        # weights 1\n",
    "        row = torch.zeros(w)        \n",
    "        row[st_ + i] = 1\n",
    "        row[sym1_ + j] = 1\n",
    "        upper[k] = row\n",
    "        # weights 2\n",
    "        z, a = states[i], alphabet[j]\n",
    "        if (z, a) in delta:\n",
    "            # state transition\n",
    "            z_next, u, q = delta[(z, a)]\n",
    "            weight2[st_ + z2i[z_next], k] = 1\n",
    "            # write symbol\n",
    "            weight2[sym2_ + a2i[u], k] = 1\n",
    "            # move            \n",
    "            weight2[scr_+(q+1)//2, k] = 1\n",
    "        else:\n",
    "            # random initialization should be fine since we dont encounter those\n",
    "            pass    \n",
    "        #\n",
    "        k += 1\n",
    "weight = torch.cat([upper, lower])\n",
    "linear1.weight = Parameter(weight)\n",
    "bias = torch.zeros(w+ds)\n",
    "bias[:ds] = -1\n",
    "linear1.bias = Parameter(bias)\n",
    "weight2[pos1_:pos2_, (ds+pos1_):(ds+pos2_)] = torch.eye(w_pos)\n",
    "weight2[pos2_:pos3_, (ds+pos2_):(ds+pos3_)] = torch.eye(w_pos)\n",
    "linear2.weight = Parameter(weight2)\n",
    "linear2.bias = Parameter(torch.zeros_like(linear2.bias))"
   ]
  },
  {
   "cell_type": "markdown",
   "metadata": {},
   "source": [
    "Test it"
   ]
  },
  {
   "cell_type": "code",
   "execution_count": 15,
   "metadata": {},
   "outputs": [],
   "source": [
    "l = 4\n",
    "i = 3\n",
    "for (z, a), (z_next, u, q) in delta.items():\n",
    "    h = torch.cat(hinput(z, a, i, l))\n",
    "    o = linear2(F.relu(linear1(h)))    \n",
    "    assert torch.equal(one_states(z_next), o[st_:sym1_])\n",
    "    assert torch.equal(torch.zeros_like(o[sym1_:sym2_]), o[sym1_:sym2_])\n",
    "    assert torch.equal(one_alphabet(u), o[sym2_:pos1_])\n",
    "    assert torch.equal(torch.Tensor(Bin(i)), o[pos1_:pos2_])\n",
    "    assert torch.equal(torch.Tensor(Bin(l)), o[pos2_:pos3_])\n",
    "    assert torch.equal(torch.zeros_like(o[pos3_:scr_]), o[pos3_:scr_])\n",
    "    assert torch.equal(torch.Tensor([0, 1, 0]) if q == 1 else torch.Tensor([1, 0, 0]), o[scr_:])"
   ]
  },
  {
   "cell_type": "markdown",
   "metadata": {},
   "source": [
    "##### Lemma C.2\n",
    "\n",
    "[Reference for subtraction logic gate](https://www.101computing.net/binary-subtraction-using-logic-gates/)"
   ]
  },
  {
   "cell_type": "code",
   "execution_count": 16,
   "metadata": {},
   "outputs": [
    {
     "name": "stdout",
     "output_type": "stream",
     "text": [
      "0 1 tensor([0., 0., 0., 0., 0., 0., 1.], grad_fn=<SliceBackward0>)\n",
      "1 1 tensor([0., 0., 0., 0., 0., 1., 0.], grad_fn=<SliceBackward0>)\n",
      "1 -1 tensor([0., 0., 0., 0., 0., 0., 0.], grad_fn=<SliceBackward0>)\n",
      "2 1 tensor([0., 0., 0., 0., 0., 1., 1.], grad_fn=<SliceBackward0>)\n",
      "2 -1 tensor([0., 0., 0., 0., 0., 0., 1.], grad_fn=<SliceBackward0>)\n",
      "3 1 tensor([0., 0., 0., 0., 1., 0., 0.], grad_fn=<SliceBackward0>)\n",
      "3 -1 tensor([0., 0., 0., 0., 0., 1., 0.], grad_fn=<SliceBackward0>)\n",
      "4 1 tensor([0., 0., 0., 0., 1., 0., 1.], grad_fn=<SliceBackward0>)\n",
      "4 -1 tensor([0., 0., 0., 0., 0., 1., 1.], grad_fn=<SliceBackward0>)\n",
      "5 1 tensor([0., 0., 0., 0., 1., 1., 0.], grad_fn=<SliceBackward0>)\n",
      "5 -1 tensor([0., 0., 0., 0., 1., 0., 0.], grad_fn=<SliceBackward0>)\n",
      "6 1 tensor([0., 0., 0., 0., 1., 1., 1.], grad_fn=<SliceBackward0>)\n",
      "6 -1 tensor([0., 0., 0., 0., 1., 0., 1.], grad_fn=<SliceBackward0>)\n"
     ]
    }
   ],
   "source": [
    "from turing.networks import FullAdder\n",
    "\n",
    "# check what it does\n",
    "for i in range(7):\n",
    "    for q in [1, -1]:\n",
    "        if i + q < 0: \n",
    "            continue\n",
    "        if q == 1:\n",
    "            # add\n",
    "            b = torch.zeros([w_pos])\n",
    "            b[w_pos-1] = 1\n",
    "            cin = 0\n",
    "        else:\n",
    "            # subtract, get 2s complement\n",
    "            b = torch.ones([w_pos])\n",
    "            b[w_pos-1] = 0\n",
    "            cin = 1\n",
    "        a = torch.cat([torch.Tensor(Bin(i)), b, torch.Tensor([cin, 6])])   \n",
    "        d_in = a.shape[0]\n",
    "        a = FullAdder(d_in, i=w_pos-1, j=2*w_pos-1, k=2*w_pos)(a)\n",
    "        a = FullAdder(d_in, i=w_pos-2, j=2*w_pos-2, k=2*w_pos)(a)\n",
    "        a = FullAdder(d_in, i=w_pos-3, j=2*w_pos-3, k=2*w_pos)(a)\n",
    "        print(i, q, a[:w_pos])"
   ]
  },
  {
   "cell_type": "code",
   "execution_count": 17,
   "metadata": {},
   "outputs": [],
   "source": [
    "def arithmetic_setup(a):\n",
    "    \"\"\"Add dimensions to hold the subtrahend; copy Bin(l) to pos3:\n",
    "    \"\"\"\n",
    "    d = a.size(dim=0)    \n",
    "    weight = torch.cat([torch.eye(d), torch.zeros(w_pos, d)])\n",
    "    bias = torch.zeros(d+w_pos)\n",
    "    # copy Bin(l) to pos3, the minuend\n",
    "    for k in range(w_pos):\n",
    "        weight[pos3_+k, pos2_+k] = 1\n",
    "    # q's value is encoded in o[scr_:scr_+1]\n",
    "    # use it to initialize o[w:w+w_pos], the subtrahend\n",
    "    # case: add\n",
    "    weight[w:w+w_pos, scr_+1] = torch.zeros([w_pos])\n",
    "    weight[w+w_pos-1, scr_+1] = 1        \n",
    "    # case: subtract\n",
    "    weight[w:w+w_pos-1, scr_] = torch.ones([w_pos-1])\n",
    "    linear_setup = Linear(d, d+w_pos)       \n",
    "    linear_setup.weight = Parameter(weight)\n",
    "    linear_setup.bias = Parameter(bias)\n",
    "    return linear_setup(a)"
   ]
  },
  {
   "cell_type": "code",
   "execution_count": 18,
   "metadata": {},
   "outputs": [],
   "source": [
    "def projectaway(a, k):\n",
    "    \"\"\"Project to first k dimensions\n",
    "    \"\"\"\n",
    "    d = a.size(dim=0)    \n",
    "    weight = torch.cat([torch.eye(k), torch.zeros(k, d-k)], dim=1)\n",
    "    bias = torch.zeros(k)   \n",
    "    l = Linear(d, k)       \n",
    "    l.weight = Parameter(weight)\n",
    "    l.bias = Parameter(bias)\n",
    "    return l(a)"
   ]
  },
  {
   "cell_type": "markdown",
   "metadata": {},
   "source": [
    "#### Intermission to simulate"
   ]
  },
  {
   "cell_type": "code",
   "execution_count": 19,
   "metadata": {},
   "outputs": [],
   "source": [
    "def step(h):\n",
    "    d = h.size(dim=0)   \n",
    "    # c.1\n",
    "    o = linear2(F.relu(linear1(h)))\n",
    "    # c.2\n",
    "    o = arithmetic_setup(o)     \n",
    "    d_in = o.shape[0]  \n",
    "    for k in range(w_pos-1, -1, -1):\n",
    "        o = FullAdder(d_in, i=pos3_+k, j=w+k, k=scr_)(o)\n",
    "    o = projectaway(o, d)\n",
    "    return o"
   ]
  },
  {
   "cell_type": "code",
   "execution_count": 20,
   "metadata": {},
   "outputs": [
    {
     "name": "stdout",
     "output_type": "stream",
     "text": [
      "   0.  B()((()(()))())E\n",
      "   1.  B()((()(()))())E\n",
      "   2.  B()((()(()))())E\n",
      "   3.  B(*((()(()))())E\n",
      "   4.  B**((()(()))())E\n",
      "   5.  B**((()(()))())E\n",
      "   6.  B**((()(()))())E\n",
      "   7.  B**((()(()))())E\n",
      "   8.  B**((()(()))())E\n",
      "   9.  B**(((*(()))())E\n",
      "  10.  B**((**(()))())E\n",
      "  11.  B**((**(()))())E\n",
      "  12.  B**((**(()))())E\n",
      "  13.  B**((**(()))())E\n",
      "  14.  B**((**((*))())E\n",
      "  15.  B**((**(**))())E\n",
      "  16.  B**((**(**))())E\n",
      "  17.  B**((**(***)())E\n",
      "  18.  B**((**(***)())E\n",
      "  19.  B**((**(***)())E\n",
      "  20.  B**((******)())E\n",
      "  21.  B**((******)())E\n",
      "  22.  B**((******)())E\n",
      "  23.  B**((******)())E\n",
      "  24.  B**((*******())E\n",
      "  25.  B**((*******())E\n",
      "  26.  B**((*******())E\n",
      "  27.  B**((*******())E\n",
      "  28.  B**((*******())E\n",
      "  29.  B**((*******())E\n",
      "  30.  B**((*******())E\n",
      "  31.  B**(********())E\n",
      "  32.  B**(********())E\n",
      "  33.  B**(********())E\n",
      "  34.  B**(********())E\n",
      "  35.  B**(********())E\n",
      "  36.  B**(********())E\n",
      "  37.  B**(********())E\n",
      "  38.  B**(********())E\n",
      "  39.  B**(********())E\n",
      "  40.  B**(********(*)E\n",
      "  41.  B**(**********)E\n",
      "  42.  B**(**********)E\n",
      "  43.  B**(***********E\n",
      "  44.  B**(***********E\n",
      "  45.  B**(***********E\n",
      "  46.  B**(***********E\n",
      "  47.  B**(***********E\n",
      "  48.  B**(***********E\n",
      "  49.  B**(***********E\n",
      "  50.  B**(***********E\n",
      "  51.  B**(***********E\n",
      "  52.  B**(***********E\n",
      "  53.  B**(***********E\n",
      "  54.  B**************E\n",
      "  55.  B**************E\n",
      "  56.  B**************E\n",
      "  57.  B**************E\n",
      "  58.  B**************E\n",
      "  59.  B**************E\n",
      "  60.  B**************E\n",
      "  61.  B**************E\n",
      "  62.  B**************E\n",
      "  63.  B**************E\n",
      "  64.  B**************E\n",
      "  65.  B**************E\n",
      "  66.  B**************E\n",
      "  67.  B**************E\n",
      "  68.  B**************E\n",
      "  69.  B**************E\n",
      "  70.  B**************E\n",
      "  71.  B**************E\n",
      "  72.  B**************E\n",
      "  73.  B**************E\n",
      "  74.  B**************E\n",
      "  75.  B**************E\n",
      "  76.  B**************E\n",
      "  77.  B**************E\n",
      "  78.  B**************E\n",
      "  79.  B**************E\n",
      "  80.  B**************E\n",
      "True\n"
     ]
    }
   ],
   "source": [
    "# initial state and position\n",
    "z, l = \"I\", 0\n",
    "tape = \"B()((()(()))())E\"\n",
    "\n",
    "for i in range(T):\n",
    "    print(f'{i:4}.  {tape}')\n",
    "    a = tape[l]\n",
    "    # Method 1\n",
    "    h = torch.cat(hinput(z, a, i, l))\n",
    "    h = step(h)    \n",
    "    # Method 2    \n",
    "    (z, u, q) = delta[(z, a)]   \n",
    "    # Compare    \n",
    "    assert torch.equal(one_states(z), h[st_:sym1_])\n",
    "    assert torch.equal(one_alphabet(u), h[sym2_:pos1_])\n",
    "    assert torch.equal(torch.Tensor(Bin(i)), h[pos1_:pos2_])\n",
    "    assert torch.equal(torch.Tensor(Bin(l)), h[pos2_:pos3_])\n",
    "    assert torch.equal(torch.Tensor(Bin(l+q)), h[pos3_:scr_])\n",
    "    # Check if state is terminal\n",
    "    if z == \"T\":\n",
    "        print(True)\n",
    "        break\n",
    "    elif z == \"F\":\n",
    "        print(False)  \n",
    "        break\n",
    "    # Make updates\n",
    "    # write\n",
    "    tape = tape[:l] + u + tape[l+1:]\n",
    "    # move\n",
    "    l += q \n",
    "    "
   ]
  }
 ],
 "metadata": {
  "kernelspec": {
   "display_name": "Python 3",
   "language": "python",
   "name": "python3"
  },
  "language_info": {
   "codemirror_mode": {
    "name": "ipython",
    "version": 3
   },
   "file_extension": ".py",
   "mimetype": "text/x-python",
   "name": "python",
   "nbconvert_exporter": "python",
   "pygments_lexer": "ipython3",
   "version": "3.8.10"
  }
 },
 "nbformat": 4,
 "nbformat_minor": 2
}
