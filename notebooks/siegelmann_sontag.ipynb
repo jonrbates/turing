{
 "cells": [
  {
   "cell_type": "code",
   "execution_count": 1,
   "metadata": {},
   "outputs": [],
   "source": [
    "import torch"
   ]
  },
  {
   "cell_type": "code",
   "execution_count": 2,
   "metadata": {},
   "outputs": [],
   "source": [
    "def encoding_function(a: str, base=4, p=1/2):\n",
    "    \"\"\"Encoding function $\\delta$ mapping a binary string to a rational number.\n",
    "    \"\"\"\n",
    "    if a == '': return 0\n",
    "    k = len(a)    \n",
    "    a = list(map(int, a))\n",
    "    a = torch.Tensor(a)    \n",
    "    denom = base**torch.arange(1, k+1)\n",
    "    num = base-1+4*p*(a-1)\n",
    "    o = (num / denom).sum().item()\n",
    "    return o\n",
    "\n",
    "assert encoding_function('') == 0\n",
    "assert encoding_function('0') == 1/4\n",
    "assert encoding_function('1') == 3/4\n",
    "assert encoding_function('000') == 21/64"
   ]
  },
  {
   "cell_type": "code",
   "execution_count": 3,
   "metadata": {},
   "outputs": [
    {
     "name": "stdout",
     "output_type": "stream",
     "text": [
      "0.366943359375\n",
      "('I', 'A', 'F', 'T')\n",
      "0 tensor([0., 0., 0.])\n",
      "tensor(0.3669) 001011\n",
      "tensor(0.) \n",
      "\n",
      "1 tensor([1., 0., 0.])\n",
      "tensor(0.4678) 01011\n",
      "tensor(0.2500) 0\n",
      "\n",
      "2 tensor([1., 0., 0.])\n",
      "tensor(0.8711) 1011\n",
      "tensor(0.3125) 00\n",
      "\n",
      "3 tensor([1., 0., 0.])\n",
      "tensor(0.4844) 011\n",
      "tensor(0.2500) 0\n",
      "\n",
      "4 tensor([1., 0., 0.])\n",
      "tensor(0.9375) 11\n",
      "tensor(0.3125) 00\n",
      "\n",
      "5 tensor([1., 0., 0.])\n",
      "tensor(0.7500) 1\n",
      "tensor(0.2500) 0\n",
      "\n",
      "6 tensor([1., 0., 0.])\n",
      "tensor(0.) \n",
      "tensor(0.) \n",
      "\n",
      "7 tensor([0., 0., 1.])\n",
      "tensor(0.) \n",
      "tensor(0.) \n",
      "\n",
      "8 tensor([0., 0., 1.])\n",
      "tensor(0.) \n",
      "tensor(0.) \n",
      "\n",
      "9 tensor([0., 0., 1.])\n",
      "tensor(0.) \n",
      "tensor(0.) \n",
      "\n"
     ]
    }
   ],
   "source": [
    "from turing.ss.simulator import (\n",
    "    Description, Simulator, balanced_parentheses_delta_stack, balanced_parentheses_terminal_states\n",
    ")\n",
    "\n",
    "description = Description(balanced_parentheses_delta_stack, balanced_parentheses_terminal_states)\n",
    "\n",
    "string = \"(()())\"\n",
    "# 4-layer simulation\n",
    "tx = Simulator(description, version=4)\n",
    "tx.simulate(string)"
   ]
  },
  {
   "cell_type": "code",
   "execution_count": 4,
   "metadata": {},
   "outputs": [
    {
     "name": "stdout",
     "output_type": "stream",
     "text": [
      "0.366943359375\n",
      "('I', 'A', 'F', 'T')\n",
      "0 tensor([1., 0., 0., 0.])\n",
      "1 tensor([ 0.0000e+00,  1.0000e+00,  6.1412e-07, -1.1921e-07])\n",
      "2 tensor([ 0.0000e+00, -2.0201e-06,  1.0000e+00,  1.8477e-06])\n",
      "3 tensor([0.0000e+00, 5.9728e-08, 1.0000e+00, 1.7165e-06])\n",
      "4 tensor([0.0000e+00, 5.9727e-08, 1.0000e+00, 1.6450e-06])\n",
      "5 tensor([0.0000e+00, 5.9727e-08, 1.0000e+00, 1.5735e-06])\n",
      "6 tensor([0.0000e+00, 5.9727e-08, 1.0000e+00, 1.5020e-06])\n",
      "7 tensor([0.0000e+00, 5.9739e-08, 1.0000e+00, 1.4304e-06])\n",
      "8 tensor([0.0000e+00, 5.9778e-08, 9.9999e-01, 1.3590e-06])\n",
      "9 tensor([0.0000e+00, 5.9826e-08, 9.9999e-01, 1.2876e-06])\n"
     ]
    }
   ],
   "source": [
    "# BROKEN - CURRENTLY BEING FIXED\n",
    "# 1-layer (aka \"real time\") simulation\n",
    "tx = Simulator(description, version=1)\n",
    "tx.simulate(string)"
   ]
  }
 ],
 "metadata": {
  "interpreter": {
   "hash": "85a08d519d263770804da5e1ae2aaf0fbdf77bf808bcaa0ec25573c3c71801ee"
  },
  "kernelspec": {
   "display_name": "Python 3.8.10 ('.turing': venv)",
   "language": "python",
   "name": "python3"
  },
  "language_info": {
   "codemirror_mode": {
    "name": "ipython",
    "version": 3
   },
   "file_extension": ".py",
   "mimetype": "text/x-python",
   "name": "python",
   "nbconvert_exporter": "python",
   "pygments_lexer": "ipython3",
   "version": "3.8.10"
  },
  "orig_nbformat": 4
 },
 "nbformat": 4,
 "nbformat_minor": 2
}
