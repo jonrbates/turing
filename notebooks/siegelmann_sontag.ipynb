{
 "cells": [
  {
   "cell_type": "code",
   "execution_count": 1,
   "metadata": {},
   "outputs": [],
   "source": [
    "import torch\n",
    "import torch.nn.functional as F\n",
    "import matplotlib.pyplot as plt\n",
    "\n",
    "from torch import Tensor\n",
    "\n",
    "from typing import List\n",
    "\n",
    "from turing.functional import saturated_relu"
   ]
  },
  {
   "cell_type": "code",
   "execution_count": 2,
   "metadata": {},
   "outputs": [],
   "source": [
    "def encoding_function(a: str, base=4, p=1/2):\n",
    "    \"\"\"Encoding function $\\delta$ mapping a binary string to a rational number.\n",
    "    \"\"\"\n",
    "    if a == '': return 0\n",
    "    k = len(a)    \n",
    "    a = list(map(int, a))\n",
    "    a = torch.Tensor(a)    \n",
    "    denom = base**torch.arange(1, k+1)\n",
    "    num = base-1+4*p*(a-1)\n",
    "    o = (num / denom).sum().item()\n",
    "    return o\n",
    "\n",
    "assert encoding_function('') == 0\n",
    "assert encoding_function('0') == 1/4\n",
    "assert encoding_function('1') == 3/4\n",
    "assert encoding_function('000') == 21/64"
   ]
  },
  {
   "cell_type": "code",
   "execution_count": 3,
   "metadata": {},
   "outputs": [
    {
     "ename": "KeyError",
     "evalue": "(0, '0', '0', '0', '0')",
     "output_type": "error",
     "traceback": [
      "\u001b[0;31m---------------------------------------------------------------------------\u001b[0m",
      "\u001b[0;31mKeyError\u001b[0m                                  Traceback (most recent call last)",
      "\u001b[1;32m/home/j/turing/notebooks/siegelmann_sontag.ipynb Cell 3'\u001b[0m in \u001b[0;36m<module>\u001b[0;34m\u001b[0m\n\u001b[1;32m      <a href='vscode-notebook-cell://wsl%2Bubuntu-20.04/home/j/turing/notebooks/siegelmann_sontag.ipynb#ch0000002vscode-remote?line=2'>3</a>\u001b[0m description \u001b[39m=\u001b[39m Description(balanced_parentheses_delta_stack, balanced_parentheses_terminal_states)\n\u001b[1;32m      <a href='vscode-notebook-cell://wsl%2Bubuntu-20.04/home/j/turing/notebooks/siegelmann_sontag.ipynb#ch0000002vscode-remote?line=4'>5</a>\u001b[0m string \u001b[39m=\u001b[39m \u001b[39m\"\u001b[39m\u001b[39m()((()(()))())\u001b[39m\u001b[39m\"\u001b[39m\n\u001b[0;32m----> <a href='vscode-notebook-cell://wsl%2Bubuntu-20.04/home/j/turing/notebooks/siegelmann_sontag.ipynb#ch0000002vscode-remote?line=6'>7</a>\u001b[0m tx \u001b[39m=\u001b[39m Simulator(description)\n\u001b[1;32m      <a href='vscode-notebook-cell://wsl%2Bubuntu-20.04/home/j/turing/notebooks/siegelmann_sontag.ipynb#ch0000002vscode-remote?line=7'>8</a>\u001b[0m initial_stack \u001b[39m=\u001b[39m tx\u001b[39m.\u001b[39mencoding_function(string)\n\u001b[1;32m      <a href='vscode-notebook-cell://wsl%2Bubuntu-20.04/home/j/turing/notebooks/siegelmann_sontag.ipynb#ch0000002vscode-remote?line=8'>9</a>\u001b[0m \u001b[39mprint\u001b[39m(initial_stack)\n",
      "File \u001b[0;32m~/turing/src/turing/ss/simulator.py:170\u001b[0m, in \u001b[0;36mSimulator.__init__\u001b[0;34m(self, description)\u001b[0m\n\u001b[1;32m    <a href='file:///home/j/turing/src/turing/ss/simulator.py?line=164'>165</a>\u001b[0m \u001b[39mif\u001b[39;00m version \u001b[39m==\u001b[39m \u001b[39m4\u001b[39m:\n\u001b[1;32m    <a href='file:///home/j/turing/src/turing/ss/simulator.py?line=165'>166</a>\u001b[0m     \u001b[39m# be consistent with ConfigurationDetector4(self.s+1, self.p).get_v()            \u001b[39;00m\n\u001b[1;32m    <a href='file:///home/j/turing/src/turing/ss/simulator.py?line=166'>167</a>\u001b[0m     \u001b[39m# y = self.generate_y(full_description)            \u001b[39;00m\n\u001b[1;32m    <a href='file:///home/j/turing/src/turing/ss/simulator.py?line=167'>168</a>\u001b[0m     \u001b[39m# network module definitions\u001b[39;00m\n\u001b[1;32m    <a href='file:///home/j/turing/src/turing/ss/simulator.py?line=168'>169</a>\u001b[0m     \u001b[39mself\u001b[39m\u001b[39m.\u001b[39mmodel \u001b[39m=\u001b[39m SiegelmannSontag4(\u001b[39mself\u001b[39m\u001b[39m.\u001b[39ms, \u001b[39mself\u001b[39m\u001b[39m.\u001b[39mp)\n\u001b[0;32m--> <a href='file:///home/j/turing/src/turing/ss/simulator.py?line=169'>170</a>\u001b[0m     \u001b[39mself\u001b[39;49m\u001b[39m.\u001b[39;49mmodel\u001b[39m.\u001b[39;49mfit(delta, \u001b[39mself\u001b[39;49m\u001b[39m.\u001b[39;49mz2i, \u001b[39mself\u001b[39;49m\u001b[39m.\u001b[39;49mstates, \u001b[39mself\u001b[39;49m\u001b[39m.\u001b[39;49malphabet)\n\u001b[1;32m    <a href='file:///home/j/turing/src/turing/ss/simulator.py?line=170'>171</a>\u001b[0m \u001b[39melif\u001b[39;00m version \u001b[39m==\u001b[39m \u001b[39m1\u001b[39m:\n\u001b[1;32m    <a href='file:///home/j/turing/src/turing/ss/simulator.py?line=171'>172</a>\u001b[0m     \u001b[39mself\u001b[39m\u001b[39m.\u001b[39mmodel \u001b[39m=\u001b[39m SiegelmannSontag1(\u001b[39mself\u001b[39m\u001b[39m.\u001b[39ms, \u001b[39mself\u001b[39m\u001b[39m.\u001b[39mp)\n",
      "File \u001b[0;32m~/turing/src/turing/ss/networks.py:368\u001b[0m, in \u001b[0;36mSiegelmannSontag4.fit\u001b[0;34m(self, delta, z2i, states, alphabet)\u001b[0m\n\u001b[1;32m    <a href='file:///home/j/turing/src/turing/ss/networks.py?line=365'>366</a>\u001b[0m \u001b[39massert\u001b[39;00m \u001b[39mlen\u001b[39m(states) \u001b[39m==\u001b[39m \u001b[39mself\u001b[39m\u001b[39m.\u001b[39ms\n\u001b[1;32m    <a href='file:///home/j/turing/src/turing/ss/networks.py?line=366'>367</a>\u001b[0m p, s \u001b[39m=\u001b[39m \u001b[39mself\u001b[39m\u001b[39m.\u001b[39mp, \u001b[39mself\u001b[39m\u001b[39m.\u001b[39ms        \n\u001b[0;32m--> <a href='file:///home/j/turing/src/turing/ss/networks.py?line=367'>368</a>\u001b[0m y \u001b[39m=\u001b[39m \u001b[39mself\u001b[39;49m\u001b[39m.\u001b[39;49m_generate_y(delta, z2i, alphabet)\n\u001b[1;32m    <a href='file:///home/j/turing/src/turing/ss/networks.py?line=369'>370</a>\u001b[0m d \u001b[39m=\u001b[39m s \u001b[39m*\u001b[39m \u001b[39m3\u001b[39m\u001b[39m*\u001b[39m\u001b[39m*\u001b[39mp\n\u001b[1;32m    <a href='file:///home/j/turing/src/turing/ss/networks.py?line=370'>371</a>\u001b[0m \u001b[39massert\u001b[39;00m (d, s\u001b[39m+\u001b[39m\u001b[39m4\u001b[39m\u001b[39m*\u001b[39mp) \u001b[39m==\u001b[39m y\u001b[39m.\u001b[39mshape\n",
      "File \u001b[0;32m~/turing/src/turing/ss/networks.py:342\u001b[0m, in \u001b[0;36mSiegelmannSontag4._generate_y\u001b[0;34m(self, delta, z2i, alphabet)\u001b[0m\n\u001b[1;32m    <a href='file:///home/j/turing/src/turing/ss/networks.py?line=339'>340</a>\u001b[0m \u001b[39mfor\u001b[39;00m v, z \u001b[39min\u001b[39;00m \u001b[39mself\u001b[39m\u001b[39m.\u001b[39mconfiguration_detector\u001b[39m.\u001b[39mgenerate_v_z():  \n\u001b[1;32m    <a href='file:///home/j/turing/src/turing/ss/networks.py?line=340'>341</a>\u001b[0m     key \u001b[39m=\u001b[39m \u001b[39mself\u001b[39m\u001b[39m.\u001b[39m_get_key(v, z, alphabet)\n\u001b[0;32m--> <a href='file:///home/j/turing/src/turing/ss/networks.py?line=341'>342</a>\u001b[0m     z_next, action_1, action_2 \u001b[39m=\u001b[39m delta[key]\n\u001b[1;32m    <a href='file:///home/j/turing/src/turing/ss/networks.py?line=342'>343</a>\u001b[0m     y \u001b[39m=\u001b[39m torch\u001b[39m.\u001b[39mzeros(s\u001b[39m+\u001b[39m\u001b[39m4\u001b[39m\u001b[39m*\u001b[39mp,)\n\u001b[1;32m    <a href='file:///home/j/turing/src/turing/ss/networks.py?line=343'>344</a>\u001b[0m     y[z2i[z_next]] \u001b[39m=\u001b[39m \u001b[39m1\u001b[39m\n",
      "\u001b[0;31mKeyError\u001b[0m: (0, '0', '0', '0', '0')"
     ]
    }
   ],
   "source": [
    "from turing.ss.simulator import Description, Simulator, balanced_parentheses_delta_stack, balanced_parentheses_terminal_states\n",
    "\n",
    "description = Description(balanced_parentheses_delta_stack, balanced_parentheses_terminal_states)\n",
    "\n",
    "string = \"()((()(()))())\"\n",
    "\n",
    "tx = Simulator(description)\n",
    "initial_stack = tx.encoding_function(string)\n",
    "print(initial_stack)\n",
    "\n",
    "# net = SiegelmannSontag4(tx)\n",
    "# x = torch.zeros(s + p)\n",
    "# o = x\n",
    "# o = net(o)\n",
    "tx.simulate(string)"
   ]
  },
  {
   "cell_type": "code",
   "execution_count": null,
   "metadata": {},
   "outputs": [
    {
     "data": {
      "text/plain": [
       "{('A', 1): ('r', 's'),\n",
       " ('B', 1): ('r', 's'),\n",
       " ('1', '2'): ('t', 'u'),\n",
       " ('M', 'A'): ('x', 'y'),\n",
       " ('M', 'B'): ('x', 'y')}"
      ]
     },
     "execution_count": 21,
     "metadata": {},
     "output_type": "execute_result"
    }
   ],
   "source": [
    "# expand description\n",
    "\n",
    "def expand(d: dict):\n",
    "    l = len(next(iter(d.keys())))\n",
    "    for i in range(l):\n",
    "        out = {}\n",
    "        domain = [\"A\", \"B\"]\n",
    "        for k, v in d.items():        \n",
    "            if k[i] == \"*\":                        \n",
    "                for x in domain:\n",
    "                    k = list(k)\n",
    "                    k[i] = x\n",
    "                    k = tuple(k)\n",
    "                    out[k] = v\n",
    "            else:\n",
    "                out[k] = v\n",
    "        d = out\n",
    "    return d\n",
    "\n",
    "d = {\n",
    "    (\"*\", 1) : (\"r\", \"s\"),\n",
    "    (\"1\", \"2\"): (\"t\", \"u\"),\n",
    "    (\"M\", \"*\"): (\"x\", \"y\")\n",
    "}\n",
    "expand(d)"
   ]
  },
  {
   "cell_type": "code",
   "execution_count": null,
   "metadata": {},
   "outputs": [
    {
     "data": {
      "text/plain": [
       "('*', 1)"
      ]
     },
     "execution_count": 12,
     "metadata": {},
     "output_type": "execute_result"
    }
   ],
   "source": [
    "next(iter(d.keys()))\n"
   ]
  },
  {
   "cell_type": "code",
   "execution_count": null,
   "metadata": {},
   "outputs": [],
   "source": []
  }
 ],
 "metadata": {
  "interpreter": {
   "hash": "85a08d519d263770804da5e1ae2aaf0fbdf77bf808bcaa0ec25573c3c71801ee"
  },
  "kernelspec": {
   "display_name": "Python 3.8.10 ('.turing': venv)",
   "language": "python",
   "name": "python3"
  },
  "language_info": {
   "codemirror_mode": {
    "name": "ipython",
    "version": 3
   },
   "file_extension": ".py",
   "mimetype": "text/x-python",
   "name": "python",
   "nbconvert_exporter": "python",
   "pygments_lexer": "ipython3",
   "version": "3.8.10"
  },
  "orig_nbformat": 4
 },
 "nbformat": 4,
 "nbformat_minor": 2
}
